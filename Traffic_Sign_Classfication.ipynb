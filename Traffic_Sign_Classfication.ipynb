{
 "cells": [
  {
   "cell_type": "markdown",
   "id": "7da67836",
   "metadata": {},
   "source": [
    "# Traffic Sign Classification - LeNet Deep Network"
   ]
  },
  {
   "cell_type": "markdown",
   "id": "01b87b84",
   "metadata": {},
   "source": [
    "### by ReDay Zarra"
   ]
  },
  {
   "cell_type": "markdown",
   "id": "6ec8c0d1",
   "metadata": {},
   "source": [
    "This project utilizes the **LeNet deep network architecture** to classify 43 different types of traffic signs. LeNet refers to a convolutional neural network that can be used for computer vision and classification models. This project showcases a *step-by-step implementation* of the model as well as *in-depth notes* to customize the model further for higher accuracy."
   ]
  },
  {
   "cell_type": "markdown",
   "id": "a3b4e7e7",
   "metadata": {},
   "source": [
    "## Importing the necessary libraries"
   ]
  },
  {
   "cell_type": "code",
   "execution_count": 228,
   "id": "358d581e",
   "metadata": {},
   "outputs": [],
   "source": [
    "import pandas as pd\n",
    "import numpy as np"
   ]
  },
  {
   "cell_type": "markdown",
   "id": "af26ea14",
   "metadata": {},
   "source": [
    "> Classic libraries that will help us read and analyze data"
   ]
  },
  {
   "cell_type": "code",
   "execution_count": 229,
   "id": "191606ba",
   "metadata": {},
   "outputs": [],
   "source": [
    "import matplotlib.pyplot as plt\n",
    "import seaborn as sns"
   ]
  },
  {
   "cell_type": "markdown",
   "id": "76835ab1",
   "metadata": {},
   "source": [
    "> Libraries used for plotting and data visualization"
   ]
  },
  {
   "cell_type": "code",
   "execution_count": 230,
   "id": "090f8979",
   "metadata": {},
   "outputs": [],
   "source": [
    "import pickle"
   ]
  },
  {
   "cell_type": "markdown",
   "id": "dbe3217f",
   "metadata": {},
   "source": [
    "> Using pickle package to open our data, not much use after that"
   ]
  },
  {
   "cell_type": "markdown",
   "id": "a21f29fe",
   "metadata": {},
   "source": [
    "## Importing the dataset"
   ]
  },
  {
   "cell_type": "markdown",
   "id": "9604cdb0",
   "metadata": {},
   "source": [
    "Importing the data into three different sections: training, validation, and\n",
    "testing. **Training data is used to train** the network, **testing data is used to test**\n",
    "the trained network with data that it has never seen to see how it would perform in\n",
    "the real world. The **validation dataset ensures that we avoid overfitting** by showing\n",
    "the network validation data every epoch (or run) in a process called \n",
    "cross-validation to ensure that the network is not focusing on the details of the\n",
    "training data. "
   ]
  },
  {
   "cell_type": "code",
   "execution_count": 231,
   "id": "3dbf755d",
   "metadata": {},
   "outputs": [],
   "source": [
    "with open(\"./traffic-signs-data/train.p\", mode = 'rb') as training_data:\n",
    "    train = pickle.load(training_data)"
   ]
  },
  {
   "cell_type": "code",
   "execution_count": 232,
   "id": "9c14357b",
   "metadata": {},
   "outputs": [],
   "source": [
    "with open(\"./traffic-signs-data/valid.p\", mode = 'rb') as validation_data:\n",
    "    valid = pickle.load(validation_data)"
   ]
  },
  {
   "cell_type": "code",
   "execution_count": 233,
   "id": "198fc2ff",
   "metadata": {},
   "outputs": [],
   "source": [
    "with open(\"./traffic-signs-data/test.p\", mode = 'rb') as testing_data:\n",
    "    test = pickle.load(testing_data)"
   ]
  },
  {
   "cell_type": "markdown",
   "id": "1960590f",
   "metadata": {},
   "source": [
    "### Splitting the dataset into training and testing sets"
   ]
  },
  {
   "cell_type": "markdown",
   "id": "ee884025",
   "metadata": {},
   "source": [
    "Splitting the data into our individual training, validation, and testing set variables."
   ]
  },
  {
   "cell_type": "code",
   "execution_count": 234,
   "id": "d9f41d6a",
   "metadata": {},
   "outputs": [],
   "source": [
    "X_train, y_train = train['features'], train['labels']"
   ]
  },
  {
   "cell_type": "markdown",
   "id": "c9f1c816",
   "metadata": {},
   "source": [
    "> Assigning the features of the training set as X_train and the dependent variable (labels) as y_train"
   ]
  },
  {
   "cell_type": "code",
   "execution_count": 235,
   "id": "364d7e5d",
   "metadata": {},
   "outputs": [],
   "source": [
    "X_validation, y_validation = valid['features'], valid['labels']"
   ]
  },
  {
   "cell_type": "markdown",
   "id": "577b086a",
   "metadata": {},
   "source": [
    "> Assigning the features of the validation set as X_validation and the dependent variable (labels) as y_validation"
   ]
  },
  {
   "cell_type": "code",
   "execution_count": 236,
   "id": "41b0abd1",
   "metadata": {},
   "outputs": [],
   "source": [
    "X_test, y_test = test['features'], test['labels']"
   ]
  },
  {
   "cell_type": "markdown",
   "id": "ccf34b81",
   "metadata": {},
   "source": [
    "> Assigning the features of the testing set as X_test and the dependent variable (labels) as y_test"
   ]
  },
  {
   "cell_type": "markdown",
   "id": "d0e2e772",
   "metadata": {},
   "source": [
    "### Checking the dimensions of the datasets"
   ]
  },
  {
   "cell_type": "code",
   "execution_count": 237,
   "id": "9ed132e7",
   "metadata": {},
   "outputs": [
    {
     "data": {
      "text/plain": [
       "(34799, 32, 32, 3)"
      ]
     },
     "execution_count": 237,
     "metadata": {},
     "output_type": "execute_result"
    }
   ],
   "source": [
    "X_train.shape"
   ]
  },
  {
   "cell_type": "markdown",
   "id": "d2d37363",
   "metadata": {},
   "source": [
    "> Gives us an output of a four element tuple. The first number is the quantity of images, the second is the width of image in pixels, the third is the height of the image, and the last number the depth - in this case the 3 tells us that the images are colored since they are being multiplied for both Red, Green, and Blue"
   ]
  },
  {
   "cell_type": "code",
   "execution_count": 238,
   "id": "6ae13e69",
   "metadata": {
    "scrolled": true
   },
   "outputs": [
    {
     "data": {
      "text/plain": [
       "(34799,)"
      ]
     },
     "execution_count": 238,
     "metadata": {},
     "output_type": "execute_result"
    }
   ],
   "source": [
    "y_train.shape"
   ]
  },
  {
   "cell_type": "markdown",
   "id": "f5350975",
   "metadata": {},
   "source": [
    "> Gives us a tuple of one element, which is a label for each image in the training set"
   ]
  },
  {
   "cell_type": "code",
   "execution_count": 239,
   "id": "9cb131ae",
   "metadata": {},
   "outputs": [
    {
     "data": {
      "text/plain": [
       "(4410, 32, 32, 3)"
      ]
     },
     "execution_count": 239,
     "metadata": {},
     "output_type": "execute_result"
    }
   ],
   "source": [
    "X_validation.shape"
   ]
  },
  {
   "cell_type": "markdown",
   "id": "3d2b7121",
   "metadata": {},
   "source": [
    "> A smaller subset only containing 4410 pictures, which are 32 x 32, and have a depth of 3 meaning they are colored with RGB"
   ]
  },
  {
   "cell_type": "code",
   "execution_count": 240,
   "id": "05560895",
   "metadata": {},
   "outputs": [
    {
     "data": {
      "text/plain": [
       "(12630, 32, 32, 3)"
      ]
     },
     "execution_count": 240,
     "metadata": {},
     "output_type": "execute_result"
    }
   ],
   "source": [
    "X_test.shape"
   ]
  },
  {
   "cell_type": "code",
   "execution_count": 241,
   "id": "9048e3a1",
   "metadata": {},
   "outputs": [
    {
     "data": {
      "text/plain": [
       "(12630,)"
      ]
     },
     "execution_count": 241,
     "metadata": {},
     "output_type": "execute_result"
    }
   ],
   "source": [
    "y_test.shape"
   ]
  },
  {
   "cell_type": "markdown",
   "id": "e042b1a9",
   "metadata": {},
   "source": [
    "## Verifying the images from the dataset"
   ]
  },
  {
   "cell_type": "markdown",
   "id": "f597353f",
   "metadata": {},
   "source": [
    "Using matplotlib to display a randomly choosen image and see if it matches with its label, just to see what the images are and how the network will be classifying them. Each type of sign has its own class which will identify the type of sign to the model. "
   ]
  },
  {
   "cell_type": "code",
   "execution_count": 242,
   "id": "0321d64c",
   "metadata": {},
   "outputs": [],
   "source": [
    "i = 23 "
   ]
  },
  {
   "cell_type": "markdown",
   "id": "a85e3cac",
   "metadata": {},
   "source": [
    "> The index of the image we want to look at, arbitrarily chose 23"
   ]
  },
  {
   "cell_type": "code",
   "execution_count": 243,
   "id": "9ccb3527",
   "metadata": {
    "scrolled": false
   },
   "outputs": [
    {
     "data": {
      "text/plain": [
       "<matplotlib.image.AxesImage at 0x2d2a36b68b0>"
      ]
     },
     "execution_count": 243,
     "metadata": {},
     "output_type": "execute_result"
    },
    {
     "data": {
      "image/png": "[encoded data removed]",
      "text/plain": [
       "<Figure size 640x480 with 1 Axes>"
      ]
     },
     "metadata": {},
     "output_type": "display_data"
    }
   ],
   "source": [
    "plt.imshow(X_train[i])"
   ]
  },
  {
   "cell_type": "markdown",
   "id": "2bb670ab",
   "metadata": {},
   "source": [
    "> Using matplotlib's .imshow method to show an image from the features training set at the index of 23"
   ]
  },
  {
   "cell_type": "code",
   "execution_count": 244,
   "id": "6b3f8aca",
   "metadata": {},
   "outputs": [
    {
     "data": {
      "text/plain": [
       "41"
      ]
     },
     "execution_count": 244,
     "metadata": {},
     "output_type": "execute_result"
    }
   ],
   "source": [
    "y_train[i]"
   ]
  },
  {
   "cell_type": "markdown",
   "id": "e4985938",
   "metadata": {},
   "source": [
    " >Also show us the corresponding label from the same index in the label's training set - the label tells us that the sign is a \"End of No Passing\""
   ]
  },
  {
   "cell_type": "code",
   "execution_count": 245,
   "id": "6cde0b5e",
   "metadata": {},
   "outputs": [
    {
     "data": {
      "text/plain": [
       "41"
      ]
     },
     "execution_count": 245,
     "metadata": {},
     "output_type": "execute_result"
    },
    {
     "data": {
      "image/png": "[encoded data removed]",
      "text/plain": [
       "<Figure size 640x480 with 1 Axes>"
      ]
     },
     "metadata": {},
     "output_type": "display_data"
    }
   ],
   "source": [
    "plt.imshow(X_validation[i])\n",
    "y_validation[i]"
   ]
  },
  {
   "cell_type": "markdown",
   "id": "da0ccbca",
   "metadata": {},
   "source": [
    ">Verifying images for the validation dataset"
   ]
  },
  {
   "cell_type": "code",
   "execution_count": 246,
   "id": "d39084ae",
   "metadata": {
    "scrolled": false
   },
   "outputs": [
    {
     "data": {
      "text/plain": [
       "3"
      ]
     },
     "execution_count": 246,
     "metadata": {},
     "output_type": "execute_result"
    },
    {
     "data": {
      "image/png": "[encoded data removed]",
      "text/plain": [
       "<Figure size 640x480 with 1 Axes>"
      ]
     },
     "metadata": {},
     "output_type": "display_data"
    }
   ],
   "source": [
    "plt.imshow(X_test[i])\n",
    "y_test[i]"
   ]
  },
  {
   "cell_type": "markdown",
   "id": "36c10e49",
   "metadata": {},
   "source": [
    "> Verifying images for the testing dataset"
   ]
  },
  {
   "cell_type": "markdown",
   "id": "dffb2ca4",
   "metadata": {},
   "source": [
    "## Preparing the data "
   ]
  },
  {
   "cell_type": "markdown",
   "id": "a330303d",
   "metadata": {},
   "source": [
    "Preparing the data by **transforming the images so they are simpler for the network to understand**. Such as \n",
    "transforming the images from **RBG to grayscale (changes the depth from 3 to 1)**. I \n",
    "will also **perform data normalization**, where instead of using the pixel values \n",
    "ranging from 0 to 255, we can lower the range to use a more restricted range of\n",
    "pixel values. The **data needs to also be shuffled** so the images do not get trained\n",
    "in a certain order, we do not want the network to learn the order of these images.\n",
    "We want to make it as hard as possible for the network to learn, which is why we\n",
    "use low-quality images, more restricted pixel range, and grayscale images. "
   ]
  },
  {
   "cell_type": "markdown",
   "id": "0eae2662",
   "metadata": {},
   "source": [
    "### Shuffling the dataset"
   ]
  },
  {
   "cell_type": "code",
   "execution_count": 247,
   "id": "32410551",
   "metadata": {},
   "outputs": [],
   "source": [
    "from sklearn.utils import shuffle"
   ]
  },
  {
   "cell_type": "markdown",
   "id": "6a911398",
   "metadata": {},
   "source": [
    "> Importing the shuffle module from the sci-kit learn library to shuffle the dataset first"
   ]
  },
  {
   "cell_type": "code",
   "execution_count": 248,
   "id": "28707682",
   "metadata": {},
   "outputs": [],
   "source": [
    "X_train, y_train = shuffle(X_train, y_train)"
   ]
  },
  {
   "cell_type": "markdown",
   "id": "2fdaef39",
   "metadata": {},
   "source": [
    "> Used the shuffle function to reassign the variables of X_train and y_train into a different order, however the labels still correspond to the correct images because the shuffle function reorders them the same way"
   ]
  },
  {
   "cell_type": "markdown",
   "id": "1baa9d28",
   "metadata": {},
   "source": [
    "### Transforming the data from RBG to Grayscale"
   ]
  },
  {
   "cell_type": "code",
   "execution_count": 249,
   "id": "06ab131c",
   "metadata": {},
   "outputs": [],
   "source": [
    "X_train_gray = np.sum(X_train/3, axis = 3, keepdims = True)"
   ]
  },
  {
   "cell_type": "markdown",
   "id": "fbcea31f",
   "metadata": {},
   "source": [
    "> Use numpy to average the pixels to get the grayscale version of the image. We will simply add the pixel values from the three color channels (Red, Green, and Blue) and then divide them by 3. "
   ]
  },
  {
   "cell_type": "code",
   "execution_count": 250,
   "id": "a31972ae",
   "metadata": {},
   "outputs": [
    {
     "data": {
      "text/plain": [
       "(34799, 32, 32, 1)"
      ]
     },
     "execution_count": 250,
     "metadata": {},
     "output_type": "execute_result"
    }
   ],
   "source": [
    "X_train_gray.shape"
   ]
  },
  {
   "cell_type": "markdown",
   "id": "d5e96df4",
   "metadata": {},
   "source": [
    "> The depth of the features training set is no longer 3, its now 1. This means the images are now grayscale"
   ]
  },
  {
   "cell_type": "code",
   "execution_count": 251,
   "id": "683e6969",
   "metadata": {},
   "outputs": [
    {
     "data": {
      "text/plain": [
       "<matplotlib.image.AxesImage at 0x2d2d0b59220>"
      ]
     },
     "execution_count": 251,
     "metadata": {},
     "output_type": "execute_result"
    },
    {
     "data": {
      "image/png": "[encoded data removed]",
      "text/plain": [
       "<Figure size 640x480 with 1 Axes>"
      ]
     },
     "metadata": {},
     "output_type": "display_data"
    }
   ],
   "source": [
    "plt.imshow(X_train_gray[i].squeeze(), cmap = 'gray')"
   ]
  },
  {
   "cell_type": "markdown",
   "id": "6d69043d",
   "metadata": {},
   "source": [
    "> The .squeeze() method gets rid of the 1 (last number) at the end of our tuple when we call the .shape method. This is because the 1 represented the depth of each image, but because our images are now grayscale we no longer need to include that. We are also specifying that we want our colormap, or cmap, to be in grayscale so we give it the 'gray' value."
   ]
  },
  {
   "cell_type": "code",
   "execution_count": 252,
   "id": "2082c642",
   "metadata": {},
   "outputs": [
    {
     "data": {
      "text/plain": [
       "(4410, 32, 32, 1)"
      ]
     },
     "execution_count": 252,
     "metadata": {},
     "output_type": "execute_result"
    }
   ],
   "source": [
    "X_validation_gray = np.sum(X_validation/3, axis = 3, keepdims = True)\n",
    "X_validation_gray.shape"
   ]
  },
  {
   "cell_type": "markdown",
   "id": "2d1c29c1",
   "metadata": {},
   "source": [
    "> Averaging the RGB values to reduce the depth from 3 to 1 for the feature's validation set"
   ]
  },
  {
   "cell_type": "code",
   "execution_count": 253,
   "id": "fada6cb5",
   "metadata": {
    "scrolled": false
   },
   "outputs": [
    {
     "data": {
      "text/plain": [
       "<matplotlib.image.AxesImage at 0x2d2a3542c10>"
      ]
     },
     "execution_count": 253,
     "metadata": {},
     "output_type": "execute_result"
    },
    {
     "data": {
      "image/png": "[encoded data removed]",
      "text/plain": [
       "<Figure size 640x480 with 1 Axes>"
      ]
     },
     "metadata": {},
     "output_type": "display_data"
    }
   ],
   "source": [
    "plt.imshow(X_validation_gray[i].squeeze(), cmap = 'gray')"
   ]
  },
  {
   "cell_type": "markdown",
   "id": "57bcb475",
   "metadata": {},
   "source": [
    "> Grayscale sample image from the feature's validation set"
   ]
  },
  {
   "cell_type": "code",
   "execution_count": 254,
   "id": "3f13fbec",
   "metadata": {},
   "outputs": [
    {
     "data": {
      "text/plain": [
       "(12630, 32, 32, 1)"
      ]
     },
     "execution_count": 254,
     "metadata": {},
     "output_type": "execute_result"
    }
   ],
   "source": [
    "X_test_gray = np.sum(X_test/3, axis = 3, keepdims = True)\n",
    "X_test_gray.shape"
   ]
  },
  {
   "cell_type": "code",
   "execution_count": 255,
   "id": "82880bfb",
   "metadata": {
    "scrolled": false
   },
   "outputs": [
    {
     "data": {
      "text/plain": [
       "<matplotlib.image.AxesImage at 0x2d2b0795d90>"
      ]
     },
     "execution_count": 255,
     "metadata": {},
     "output_type": "execute_result"
    },
    {
     "data": {
      "image/png": "[encoded data removed]",
      "text/plain": [
       "<Figure size 640x480 with 1 Axes>"
      ]
     },
     "metadata": {},
     "output_type": "display_data"
    }
   ],
   "source": [
    "plt.imshow(X_test_gray[i].squeeze(), cmap = 'gray')"
   ]
  },
  {
   "cell_type": "markdown",
   "id": "98c01abc",
   "metadata": {},
   "source": [
    "### Normalizing the data "
   ]
  },
  {
   "cell_type": "markdown",
   "id": "842963dd",
   "metadata": {},
   "source": [
    "**Normalization is restricting the pixel value scale for each dataset**. It is important because we want all our **pixels in a similar range** so the weight at one part of the image is not a lot more than the weight at another part of an image."
   ]
  },
  {
   "cell_type": "code",
   "execution_count": 256,
   "id": "a505c20d",
   "metadata": {},
   "outputs": [],
   "source": [
    "X_train_gray_norm = (X_train_gray - 128) / 128"
   ]
  },
  {
   "cell_type": "markdown",
   "id": "d61aa3ca",
   "metadata": {},
   "source": [
    "> There are many kinds of normalization methods. This one works by **subtracting the image pixels by 128** because we want to center the data from its range of 0 to 255 (256 total, so half is 128). We then **divide by 128** to so the data is between -1 to 1."
   ]
  },
  {
   "cell_type": "code",
   "execution_count": 257,
   "id": "40c1c96f",
   "metadata": {
    "scrolled": false
   },
   "outputs": [
    {
     "data": {
      "text/plain": [
       "<matplotlib.image.AxesImage at 0x2d2a368a370>"
      ]
     },
     "execution_count": 257,
     "metadata": {},
     "output_type": "execute_result"
    },
    {
     "data": {
      "image/png": "[encoded data removed]",
      "text/plain": [
       "<Figure size 640x480 with 1 Axes>"
      ]
     },
     "metadata": {},
     "output_type": "display_data"
    }
   ],
   "source": [
    "plt.imshow(X_train_gray_norm[i].squeeze(), cmap = 'gray')\n",
    "# X_train_gray_norm"
   ]
  },
  {
   "cell_type": "code",
   "execution_count": 258,
   "id": "26dc6590",
   "metadata": {},
   "outputs": [
    {
     "data": {
      "text/plain": [
       "<matplotlib.image.AxesImage at 0x2d2a3a305b0>"
      ]
     },
     "execution_count": 258,
     "metadata": {},
     "output_type": "execute_result"
    },
    {
     "data": {
      "image/png": "[encoded data removed]",
      "text/plain": [
       "<Figure size 640x480 with 1 Axes>"
      ]
     },
     "metadata": {},
     "output_type": "display_data"
    }
   ],
   "source": [
    "X_validation_gray_norm = (X_validation_gray - 128) / 128\n",
    "plt.imshow(X_validation_gray_norm[i].squeeze(), cmap = 'gray')"
   ]
  },
  {
   "cell_type": "code",
   "execution_count": 259,
   "id": "4f48e3da",
   "metadata": {
    "scrolled": false
   },
   "outputs": [
    {
     "data": {
      "text/plain": [
       "<matplotlib.image.AxesImage at 0x2d2a3a53790>"
      ]
     },
     "execution_count": 259,
     "metadata": {},
     "output_type": "execute_result"
    },
    {
     "data": {
      "image/png": "[encoded data removed]",
      "text/plain": [
       "<Figure size 640x480 with 1 Axes>"
      ]
     },
     "metadata": {},
     "output_type": "display_data"
    }
   ],
   "source": [
    "X_test_gray_norm = (X_test_gray - 128) / 128\n",
    "plt.imshow(X_test_gray_norm[i].squeeze(), cmap = 'gray')"
   ]
  },
  {
   "cell_type": "markdown",
   "id": "3015e5e6",
   "metadata": {},
   "source": [
    "## Building the Neural Network"
   ]
  },
  {
   "cell_type": "markdown",
   "id": "58f5a0cb",
   "metadata": {},
   "source": [
    "To train the model we will implement six fundamental steps that will ensure we have\n",
    "correctly implemented the LeNet-5 architecture. The original LeNet-5 architecture\n",
    "was proposed by Yann LeCun and he developed it to recognize handwritten numbers. \n",
    "The dataset with the handwritten numbers is called the MNIST dataset and we will\n",
    "be working with that in some different project. \n",
    "\n",
    "For our use, we will need to cutomize the LeNet architecture a bit because we have\n",
    "more classes (or types of things) to differentiate from. Yann LeCun had 10 classes \n",
    "which were numbers ranging from 0 to 1, while we have over 43 different traffic \n",
    "signs. "
   ]
  },
  {
   "cell_type": "markdown",
   "id": "bf0289dc",
   "metadata": {},
   "source": [
    "### First Convolutional Layer"
   ]
  },
  {
   "cell_type": "markdown",
   "id": "ff6703cc",
   "metadata": {},
   "source": [
    "For our first step, we will take our input image (which is 32 x 32 x 1) and **apply\n",
    "6 filters** that are 5 x 5 with input depth of 3. The output of these filters will be \n",
    "28 x 28 x 6 after the image has been processed through it. This is because there is \n",
    "an equation the ouptut has to follow that applies when we run images to filters: \n",
    "\n",
    "> **Output = ((Input - Filter) + 1) / Stride**\n",
    "\n",
    "the equation above returns 28 by: \n",
    "\n",
    "> **Output = ((32 - 5) + 1) / 1 = 28**\n",
    "\n",
    "The **stride is simply how much the kernel is shifted by each time when it passes over the image.** The kernel is essentially a feature map that scans the image by essentially gliding over it. The stride is how much the kernel shifts, so a **stride of 1 means that the kernel is moving 1px at a time** which is slow. While a stride of 2 means its moving 2px each time.\n",
    "\n",
    "The **output depth is determined by the number of filters we apply**, since we applied\n",
    "six filters the output of the image after the filters have been applied becomes\n",
    "28 x 28 x 6.\n",
    "\n",
    "Then we need to **apply a ReLU function on the output**. The rectified linear \n",
    "unit, or ReLU, an activation function simply takes in input and **converts all negative numbers \n",
    "into 0's while maintaining all the positive numbers**.\n",
    "\n",
    "Finally, a **pooling layer (or subsampling layer) will be applied to simply shrink \n",
    "the feature map by 2**. This means the output depth will remain the same (the output\n",
    "from the filters is still maintained), however the size of the output will be \n",
    "divided from 28 to 14. The result of the pooling layer is 14 x 14 x 6."
   ]
  },
  {
   "cell_type": "markdown",
   "id": "404e470f",
   "metadata": {},
   "source": [
    "#### Importing the Keras classes"
   ]
  },
  {
   "cell_type": "code",
   "execution_count": 260,
   "id": "8a007c69",
   "metadata": {},
   "outputs": [],
   "source": [
    "from keras.models import Sequential"
   ]
  },
  {
   "cell_type": "markdown",
   "id": "18932bb4",
   "metadata": {},
   "source": [
    "> We are going to use **Keras which will sit on top of TensorFlow** and help us build our network. From the keras.models module we will import the Sequential class which will allow us to **build our network in a sequential fashion (building it one step at a time)**."
   ]
  },
  {
   "cell_type": "code",
   "execution_count": 261,
   "id": "f10d3689",
   "metadata": {},
   "outputs": [],
   "source": [
    "from keras.layers import Conv2D, MaxPooling2D, AveragePooling2D, Dense, Flatten, Dropout"
   ]
  },
  {
   "cell_type": "markdown",
   "id": "85abb026",
   "metadata": {},
   "source": [
    "> Import the following **necessary classes from Keras to build our model** sequentially:\n",
    "\n",
    "> 1. The **Conv2D** class will be used to **perform our convolutions in the convolutional layers**.\n",
    "\n",
    "> 2. The **MaxPooling2D** class is going to help us in the **downsampling layers by selecting the largest pixel value** in the pooling window.\n",
    "\n",
    "> 3. The **AveragePooling2D** class will also perform **downsampling but it will take the average of the pixels** in the pooling window. \n",
    "\n",
    "> 4. The **Dense** class helps **build the dense layers**. \n",
    "\n",
    "> 5. The **Flatten** class will help us **flatten the matrix down to a vector** of pixels. \n",
    "\n",
    "> 6. The **Dropout** class is implements a regularization technique that **reduces overfitting by forcing some of the neurons to have an input of zero** - which reduces dependency on any one feature."
   ]
  },
  {
   "cell_type": "code",
   "execution_count": 262,
   "id": "4782a50e",
   "metadata": {},
   "outputs": [],
   "source": [
    "from keras.optimizers import Adam"
   ]
  },
  {
   "cell_type": "markdown",
   "id": "d3fb8f8e",
   "metadata": {},
   "source": [
    ">The **Adam** class is optimization algorithm **used to update the weights of the neural network**. Adam maintains a running average of the gradients and uses them to update the model."
   ]
  },
  {
   "cell_type": "code",
   "execution_count": 263,
   "id": "607ed96a",
   "metadata": {},
   "outputs": [],
   "source": [
    "from keras.callbacks import TensorBoard"
   ]
  },
  {
   "cell_type": "markdown",
   "id": "20a2fbf2",
   "metadata": {},
   "source": [
    "> Basically using TensorFlow as the backend of the Keras API"
   ]
  },
  {
   "cell_type": "markdown",
   "id": "9e4a5ce4",
   "metadata": {},
   "source": [
    "#### Applying the First Convolution"
   ]
  },
  {
   "cell_type": "code",
   "execution_count": 264,
   "id": "32f001dc",
   "metadata": {},
   "outputs": [],
   "source": [
    "cnn_model = Sequential()"
   ]
  },
  {
   "cell_type": "markdown",
   "id": "72437685",
   "metadata": {},
   "source": [
    "> Create the Sequential class instance object"
   ]
  },
  {
   "cell_type": "code",
   "execution_count": 265,
   "id": "d8631a0a",
   "metadata": {},
   "outputs": [],
   "source": [
    "cnn_model.add(Conv2D(filters = 6, kernel_size = (5, 5), activation = 'relu', input_shape = (32, 32, 1)))"
   ]
  },
  {
   "cell_type": "markdown",
   "id": "9aa377ca",
   "metadata": {},
   "source": [
    "> Use the Sequential class .add method to start building. The **Conv2D is class is then called to build the first convolution layer**, it takes 4 parameters. The first parameter is the number of filters which we know is 6. The **kernel_size is the size of the filters** which we know is 5 x 5 so we input the tuple (5,5). We specify the **activation function as 'relu'** to ensure ReLU is used. The final parameter is the **input shape which will be the shape of the image** so the tuple (32, 32, 1)"
   ]
  },
  {
   "cell_type": "markdown",
   "id": "d35e7b86",
   "metadata": {},
   "source": [
    "#### Applying Pooling"
   ]
  },
  {
   "cell_type": "code",
   "execution_count": 266,
   "id": "cde8dd8e",
   "metadata": {},
   "outputs": [],
   "source": [
    "cnn_model.add(AveragePooling2D())"
   ]
  },
  {
   "cell_type": "markdown",
   "id": "883213b5",
   "metadata": {},
   "source": [
    "> Using the .add method from the Sequential class, call the AveragePooling2D class which will automatically apply average downsampling (average pixel value is chosen from pooling window) to our output. This means our output will go from (28, 28, 6) to (14, 14, 6). It will divide the image shape by 2 but will not affect the output depth. "
   ]
  },
  {
   "cell_type": "markdown",
   "id": "8d99b760",
   "metadata": {},
   "source": [
    "### Second Convolutional Layer"
   ]
  },
  {
   "cell_type": "markdown",
   "id": "e449e1b5",
   "metadata": {},
   "source": [
    "For our second step, we will simply repeat the process above but implementing some slight changes. We will take the output from the previous convolutional layer, which was 14 x 14 x 6 and then **apply 16 filters**. The filters will follow the same equation from above:\n",
    "\n",
    "> **Output = ((14-5) + 1) / 1 = 10**\n",
    "\n",
    "The **stride is 1px** (kernel is shifting by 1px each time) and because we have applied 16 filters, the **output of the filters will be 10 x 10 x 16**.\n",
    "\n",
    "Similar to the previous layer, we **apply a ReLU funciton** which will simply *convert all the negative values into 0's*.\n",
    "\n",
    "A subsampling layer aka **pooling layer is applied** to reduce the size of the images by 2. Meaning the images are shrunk down from 10 x 10 to 5 x 5, however the output depth from the filters has not changed. This means that the **output after the second convolutional layer is 5 x 5 x 16**."
   ]
  },
  {
   "cell_type": "markdown",
   "id": "179ce514",
   "metadata": {},
   "source": [
    "#### Applying the Second Convolution"
   ]
  },
  {
   "cell_type": "code",
   "execution_count": 267,
   "id": "573d4725",
   "metadata": {},
   "outputs": [],
   "source": [
    "cnn_model.add(Conv2D(filters = 16, kernel_size = (5,5), activation = 'relu'))"
   ]
  },
  {
   "cell_type": "markdown",
   "id": "26aab314",
   "metadata": {},
   "source": [
    "> Similar to the last filter except we no longer have to specify the input shape because the model already accepted the input from the last layer"
   ]
  },
  {
   "cell_type": "code",
   "execution_count": 268,
   "id": "f00c74aa",
   "metadata": {},
   "outputs": [],
   "source": [
    "cnn_model.add(AveragePooling2D())"
   ]
  },
  {
   "cell_type": "markdown",
   "id": "fecdaece",
   "metadata": {},
   "source": [
    "### Flatten Layer"
   ]
  },
  {
   "cell_type": "markdown",
   "id": "e4132f97",
   "metadata": {},
   "source": [
    "The **flatten layer is simply used to convert** our matrix of data, which in our case is 5 x 5 x 16 **into a single array** so 400 x 1. This array *basically stores the individual pixels of an image in a single line*. It is important to flatten our data because the fully connected layers expects a one-dimensional vector of data as input. "
   ]
  },
  {
   "cell_type": "code",
   "execution_count": 269,
   "id": "08650a0f",
   "metadata": {},
   "outputs": [],
   "source": [
    "cnn_model.add(Flatten())"
   ]
  },
  {
   "cell_type": "markdown",
   "id": "3a9793da",
   "metadata": {},
   "source": [
    "> Call the Flatten class to automatically flatten the output from the last convolutional layer into a vector of 400 x 1 containing pixels"
   ]
  },
  {
   "cell_type": "markdown",
   "id": "9ce070c6",
   "metadata": {},
   "source": [
    "### First Dense Layer"
   ]
  },
  {
   "cell_type": "markdown",
   "id": "12b3bf06",
   "metadata": {},
   "source": [
    "A fully connected layer or a **dense layer is simply a layer that connects all of the\n",
    "nodes from it's layer to all of the nodes in the next layer**. Dense layers are often\n",
    "used at the end of neural networks because they *allow the network to learn the \n",
    "complex mapping from the input to the output data*. They function by receiving \n",
    "input from all of the nodes and then multiplying weights and adding biases to each\n",
    "input value. These values are then passed down to the next dense layer which adds \n",
    "its own weights and biases. The **network learns to control these weights and biases\n",
    "so that it can eventually make highly accurate predictions**.\n",
    "\n",
    "In our case, the **first dense layer will have 400 nodes** which will each be assigned a \n",
    "pixel from our 400 x 1 flattened vector. The nodes will then connect to a second \n",
    "layer which only has 120 nodes (or neurons). The **dense layer will then apply a ReLU activation function to the output** before sending it off to the next layer."
   ]
  },
  {
   "cell_type": "code",
   "execution_count": 270,
   "id": "cb995318",
   "metadata": {},
   "outputs": [],
   "source": [
    "cnn_model.add(Dense(units = 120, activation = 'relu'))"
   ]
  },
  {
   "cell_type": "markdown",
   "id": "21a36af4",
   "metadata": {},
   "source": [
    "> Use the .add method from the Sequential class, and then call the Dense class. This class takes the parameters units which is the number of nodes it needs to connect to for the next layer, and then the activation function which is ReLU"
   ]
  },
  {
   "cell_type": "markdown",
   "id": "0447df0e",
   "metadata": {},
   "source": [
    "### Second Dense Layer"
   ]
  },
  {
   "cell_type": "markdown",
   "id": "4bf48f2c",
   "metadata": {},
   "source": [
    "The second dense layer is similar to the first. It will **take the input from the 120 nodes** from the previous layer, **manipulate the input with its own weights & biases, and then pass on the output to the next layer**.\n",
    "\n",
    "The second dense layer will have 120 nodes to recieve the input from the previous layer and then it's output will be passed on to another dense layer with 84 nodes. The dense layer will then **apply a ReLU activation function to the output** before sending it off to the next layer."
   ]
  },
  {
   "cell_type": "code",
   "execution_count": 271,
   "id": "e5017fe4",
   "metadata": {},
   "outputs": [],
   "source": [
    "cnn_model.add(Dense(units = 84, activation = 'relu'))"
   ]
  },
  {
   "cell_type": "markdown",
   "id": "28c385fe",
   "metadata": {},
   "source": [
    "### Third Dense Layer"
   ]
  },
  {
   "cell_type": "markdown",
   "id": "07798465",
   "metadata": {},
   "source": [
    "The third and **final dense layer will recieve input from the previous layer with its 84 nodes**. This layer will be **responsible for manipulating the input recieved and sending it to the final output layer**. The dense layer will then **apply a ReLU activation function to the output** before sending it off to the output layer.\n",
    "\n",
    "Our **output layer needs to have nodes equal to the number of classes**. In the MNIST experiment, Yann LeCun only had 10 classes because he was trying to recognize the handwritten digits 0 to 9. However, we are trying to classify 43 different kinds of signs so our **output layer needs to have 43 nodes**. One node for class, or type of sign. "
   ]
  },
  {
   "cell_type": "code",
   "execution_count": 272,
   "id": "08ae01e2",
   "metadata": {},
   "outputs": [],
   "source": [
    "cnn_model.add(Dense(units = 43, activation = 'softmax'))"
   ]
  },
  {
   "cell_type": "markdown",
   "id": "b35e2d10",
   "metadata": {},
   "source": [
    "> The activation function of the last layer **can't use ReLU because the output needs to be categorical** (ReLU just gives us numbers that aren't negatives). The **softmax activation function takes in all the input and squashes it between 0 and 1**, meaning the final values of all the numbers add up to 1. **These numbers between 0 and 1 act as probability values** (if you multiply by 100 you get the percentage) which is perfect for our project."
   ]
  },
  {
   "cell_type": "markdown",
   "id": "4053d572",
   "metadata": {},
   "source": [
    "## Compiling the Model"
   ]
  },
  {
   "cell_type": "markdown",
   "id": "b75edcbb",
   "metadata": {},
   "source": [
    "To train the model, we will **first have to compile it**. We will use the .compile \n",
    "method from the Sequential class. The method accepts the following classes which\n",
    "are used to compile and train the model effeciently: **loss, optimizer, and metrics**."
   ]
  },
  {
   "cell_type": "code",
   "execution_count": 273,
   "id": "041d6942",
   "metadata": {},
   "outputs": [],
   "source": [
    "cnn_model.compile(loss = 'sparse_categorical_crossentropy', optimizer = Adam(learning_rate = 0.001), metrics = ['accuracy'])"
   ]
  },
  {
   "cell_type": "markdown",
   "id": "4455fe6d",
   "metadata": {},
   "source": [
    "> 1. The loss parameter allows us to specify what kind of loss function we want to use to better train the model. The categorical cross entropy loss function measures the difference between the true probability distribution and predicted probability distribution.\n",
    ">> The loss function does this by comparing the predicted probability for each class with the true class label\n",
    "\n",
    "> 2. The optimizer parameter will specify what kind of optimizer we want to use. For my project, I want to use the Adam optimizer. The Adam optimizer takes in the parameter learning_rate which is set to 0.001 - this is the step size at which the optimizer makes updates to the parameters (weights and biases).\n",
    ">> The learning rate of 0.001 is good for Adam. However, if the learning rate is too small than the model can be train too slow. If it is too big than the model can speed up the training process but increase the risk of overfitting.\n",
    "\n",
    "> 3. The metrics parameter lets us specify how we want to evaluate the model. The accuracy metric allows us to evaluate the performance of the model based on the number of correct predictions divided by the total predictions."
   ]
  },
  {
   "cell_type": "markdown",
   "id": "126fb847",
   "metadata": {},
   "source": [
    "## Training the Model"
   ]
  },
  {
   "cell_type": "markdown",
   "id": "b1682b4f",
   "metadata": {},
   "source": [
    "Finally, to train the model we will use the .fit method from the Sequential class. This class has a number of parameters that we will need to address for the network to train effeciently, such as: **features training** dataset, **dependent variable training** dataset, **batch_size, nb_epoch, verbose, validation_data**."
   ]
  },
  {
   "cell_type": "code",
   "execution_count": 274,
   "id": "522057c6",
   "metadata": {
    "scrolled": true
   },
   "outputs": [
    {
     "name": "stdout",
     "output_type": "stream",
     "text": [
      "Epoch 1/45\n",
      "70/70 [==============================] - 3s 45ms/step - loss: 3.0740 - accuracy: 0.2160 - val_loss: 2.3989 - val_accuracy: 0.3515\n",
      "Epoch 2/45\n",
      "70/70 [==============================] - 3s 44ms/step - loss: 1.4447 - accuracy: 0.5961 - val_loss: 1.2297 - val_accuracy: 0.6279\n",
      "Epoch 3/45\n",
      "70/70 [==============================] - 3s 44ms/step - loss: 0.8250 - accuracy: 0.7689 - val_loss: 0.9237 - val_accuracy: 0.7263\n",
      "Epoch 4/45\n",
      "70/70 [==============================] - 3s 44ms/step - loss: 0.6088 - accuracy: 0.8324 - val_loss: 0.7595 - val_accuracy: 0.7789\n",
      "Epoch 5/45\n",
      "70/70 [==============================] - 3s 44ms/step - loss: 0.4921 - accuracy: 0.8665 - val_loss: 0.7310 - val_accuracy: 0.7771\n",
      "Epoch 6/45\n",
      "70/70 [==============================] - 3s 44ms/step - loss: 0.4152 - accuracy: 0.8886 - val_loss: 0.6348 - val_accuracy: 0.8181\n",
      "Epoch 7/45\n",
      "70/70 [==============================] - 3s 44ms/step - loss: 0.3497 - accuracy: 0.9099 - val_loss: 0.6115 - val_accuracy: 0.8288\n",
      "Epoch 8/45\n",
      "70/70 [==============================] - 3s 46ms/step - loss: 0.3041 - accuracy: 0.9225 - val_loss: 0.5979 - val_accuracy: 0.8417\n",
      "Epoch 9/45\n",
      "70/70 [==============================] - 3s 44ms/step - loss: 0.2823 - accuracy: 0.9261 - val_loss: 0.5555 - val_accuracy: 0.8485\n",
      "Epoch 10/45\n",
      "70/70 [==============================] - 3s 45ms/step - loss: 0.2413 - accuracy: 0.9403 - val_loss: 0.5561 - val_accuracy: 0.8503\n",
      "Epoch 11/45\n",
      "70/70 [==============================] - 3s 44ms/step - loss: 0.2234 - accuracy: 0.9419 - val_loss: 0.5119 - val_accuracy: 0.8624\n",
      "Epoch 12/45\n",
      "70/70 [==============================] - 3s 44ms/step - loss: 0.1947 - accuracy: 0.9523 - val_loss: 0.5276 - val_accuracy: 0.8603\n",
      "Epoch 13/45\n",
      "70/70 [==============================] - 3s 45ms/step - loss: 0.1813 - accuracy: 0.9550 - val_loss: 0.5193 - val_accuracy: 0.8658\n",
      "Epoch 14/45\n",
      "70/70 [==============================] - 3s 43ms/step - loss: 0.1641 - accuracy: 0.9592 - val_loss: 0.5059 - val_accuracy: 0.8707\n",
      "Epoch 15/45\n",
      "70/70 [==============================] - 3s 43ms/step - loss: 0.1525 - accuracy: 0.9632 - val_loss: 0.4986 - val_accuracy: 0.8701\n",
      "Epoch 16/45\n",
      "70/70 [==============================] - 3s 44ms/step - loss: 0.1354 - accuracy: 0.9681 - val_loss: 0.5335 - val_accuracy: 0.8633\n",
      "Epoch 17/45\n",
      "70/70 [==============================] - 3s 44ms/step - loss: 0.1267 - accuracy: 0.9690 - val_loss: 0.5191 - val_accuracy: 0.8707\n",
      "Epoch 18/45\n",
      "70/70 [==============================] - 3s 45ms/step - loss: 0.1209 - accuracy: 0.9695 - val_loss: 0.5343 - val_accuracy: 0.8544\n",
      "Epoch 19/45\n",
      "70/70 [==============================] - 3s 44ms/step - loss: 0.1099 - accuracy: 0.9730 - val_loss: 0.4953 - val_accuracy: 0.8705\n",
      "Epoch 20/45\n",
      "70/70 [==============================] - 3s 44ms/step - loss: 0.1016 - accuracy: 0.9754 - val_loss: 0.5007 - val_accuracy: 0.8850\n",
      "Epoch 21/45\n",
      "70/70 [==============================] - 3s 44ms/step - loss: 0.0928 - accuracy: 0.9772 - val_loss: 0.5004 - val_accuracy: 0.8807\n",
      "Epoch 22/45\n",
      "70/70 [==============================] - 3s 43ms/step - loss: 0.0865 - accuracy: 0.9790 - val_loss: 0.5130 - val_accuracy: 0.8755\n",
      "Epoch 23/45\n",
      "70/70 [==============================] - 3s 46ms/step - loss: 0.0801 - accuracy: 0.9804 - val_loss: 0.5177 - val_accuracy: 0.8805\n",
      "Epoch 24/45\n",
      "70/70 [==============================] - 3s 44ms/step - loss: 0.0741 - accuracy: 0.9824 - val_loss: 0.5068 - val_accuracy: 0.8769\n",
      "Epoch 25/45\n",
      "70/70 [==============================] - 3s 44ms/step - loss: 0.0696 - accuracy: 0.9826 - val_loss: 0.5291 - val_accuracy: 0.8785\n",
      "Epoch 26/45\n",
      "70/70 [==============================] - 3s 44ms/step - loss: 0.0655 - accuracy: 0.9841 - val_loss: 0.5034 - val_accuracy: 0.8855\n",
      "Epoch 27/45\n",
      "70/70 [==============================] - 3s 44ms/step - loss: 0.0582 - accuracy: 0.9866 - val_loss: 0.5168 - val_accuracy: 0.8857\n",
      "Epoch 28/45\n",
      "70/70 [==============================] - 4s 54ms/step - loss: 0.0549 - accuracy: 0.9878 - val_loss: 0.5157 - val_accuracy: 0.8864\n",
      "Epoch 29/45\n",
      "70/70 [==============================] - 3s 46ms/step - loss: 0.0538 - accuracy: 0.9873 - val_loss: 0.5481 - val_accuracy: 0.8850\n",
      "Epoch 30/45\n",
      "70/70 [==============================] - 3s 44ms/step - loss: 0.0505 - accuracy: 0.9870 - val_loss: 0.5228 - val_accuracy: 0.8914\n",
      "Epoch 31/45\n",
      "70/70 [==============================] - 3s 44ms/step - loss: 0.0445 - accuracy: 0.9901 - val_loss: 0.5326 - val_accuracy: 0.8893\n",
      "Epoch 32/45\n",
      "70/70 [==============================] - 3s 44ms/step - loss: 0.0436 - accuracy: 0.9895 - val_loss: 0.5855 - val_accuracy: 0.8760\n",
      "Epoch 33/45\n",
      "70/70 [==============================] - 3s 45ms/step - loss: 0.0440 - accuracy: 0.9891 - val_loss: 0.5884 - val_accuracy: 0.8773\n",
      "Epoch 34/45\n",
      "70/70 [==============================] - 3s 45ms/step - loss: 0.0418 - accuracy: 0.9894 - val_loss: 0.5953 - val_accuracy: 0.8778\n",
      "Epoch 35/45\n",
      "70/70 [==============================] - 3s 44ms/step - loss: 0.0398 - accuracy: 0.9902 - val_loss: 0.6660 - val_accuracy: 0.8798\n",
      "Epoch 36/45\n",
      "70/70 [==============================] - 3s 44ms/step - loss: 0.0336 - accuracy: 0.9923 - val_loss: 0.5299 - val_accuracy: 0.8862\n",
      "Epoch 37/45\n",
      "70/70 [==============================] - 3s 44ms/step - loss: 0.0361 - accuracy: 0.9907 - val_loss: 0.5780 - val_accuracy: 0.8844\n",
      "Epoch 38/45\n",
      "70/70 [==============================] - 3s 45ms/step - loss: 0.0296 - accuracy: 0.9927 - val_loss: 0.5916 - val_accuracy: 0.8805\n",
      "Epoch 39/45\n",
      "70/70 [==============================] - 3s 44ms/step - loss: 0.0336 - accuracy: 0.9912 - val_loss: 0.6234 - val_accuracy: 0.8834\n",
      "Epoch 40/45\n",
      "70/70 [==============================] - 3s 44ms/step - loss: 0.0260 - accuracy: 0.9938 - val_loss: 0.6210 - val_accuracy: 0.8787\n",
      "Epoch 41/45\n",
      "70/70 [==============================] - 3s 44ms/step - loss: 0.0243 - accuracy: 0.9944 - val_loss: 0.7653 - val_accuracy: 0.8655\n",
      "Epoch 42/45\n",
      "70/70 [==============================] - 3s 44ms/step - loss: 0.0331 - accuracy: 0.9913 - val_loss: 0.6192 - val_accuracy: 0.8766\n",
      "Epoch 43/45\n",
      "70/70 [==============================] - 3s 45ms/step - loss: 0.0271 - accuracy: 0.9928 - val_loss: 0.5908 - val_accuracy: 0.8825\n",
      "Epoch 44/45\n",
      "70/70 [==============================] - 3s 45ms/step - loss: 0.0218 - accuracy: 0.9949 - val_loss: 0.5957 - val_accuracy: 0.8832\n",
      "Epoch 45/45\n",
      "70/70 [==============================] - 3s 44ms/step - loss: 0.0191 - accuracy: 0.9956 - val_loss: 0.6326 - val_accuracy: 0.8850\n"
     ]
    }
   ],
   "source": [
    "history = cnn_model.fit(X_train_gray_norm,\n",
    "              y_train,\n",
    "              batch_size = 500,\n",
    "              epochs = 45,\n",
    "              verbose = 1,\n",
    "              validation_data = (X_validation_gray_norm, y_validation))"
   ]
  },
  {
   "cell_type": "markdown",
   "id": "c22bcc34",
   "metadata": {},
   "source": [
    "> 1. The first parameter of the .fit method is the features training dataset. Here we will just **input the features training data** which are the images that we prepared by shuffling, grayscaling, and normalizing. The images are **stored in the variable X_train_gray_norm**\n",
    "\n",
    "> 2. The second parameter is the dependent varible training dataset (what we want to predict). We can just **input the dependent variable training data** which are the labels that correspond to every image in the features training data. These labels are **stored in the variable y_train**\n",
    "\n",
    "> 3. The third parameter is the **batch_size** with just **means the number of images that will be fed into the network at once**.\n",
    "\n",
    "> 4. The fourth parameter is the **epochs** which **means the number of epochs or a single pass through the *entire dataset***. At the end of each epoch, the model's performance is evaluated and recorded. Another epoch starts and the **optimizer aims to perform better each time** using the evaluations. \n",
    "\n",
    "> 5. The fifth parameter is **verbose** which just means how much information the program shows us during the training process. Setting the **value to 1 will show us all the background information, and the value will 0 will show us nothing**.\n",
    "\n",
    "> 6. The sixth parameter is the **validation_data**. This is the dataset we will **use to avoid overfitting by showing the network validation data every epoch** so that the network is not focusing on the details of the training data. The **validation images are stored in the variable X_validation_gray_norm** and the **validation labels are stored in the variable y_validation**"
   ]
  },
  {
   "cell_type": "markdown",
   "id": "e3e327f0",
   "metadata": {},
   "source": [
    "## Evaluating the Model"
   ]
  },
  {
   "cell_type": "markdown",
   "id": "a52b6965",
   "metadata": {},
   "source": [
    "Now that we have trained our model, it **needs to be evaluated so we know how well it performs in the real world**. This can be done by **showing the model the testing dataset** which it has not seen before."
   ]
  },
  {
   "cell_type": "markdown",
   "id": "74f73aeb",
   "metadata": {},
   "source": [
    "### Testing the Model"
   ]
  },
  {
   "cell_type": "code",
   "execution_count": 276,
   "id": "0a7925d3",
   "metadata": {},
   "outputs": [
    {
     "name": "stdout",
     "output_type": "stream",
     "text": [
      "395/395 [==============================] - 1s 2ms/step - loss: 1.0775 - accuracy: 0.8773\n"
     ]
    }
   ],
   "source": [
    "score = cnn_model.evaluate(X_test_gray_norm, y_test)"
   ]
  },
  {
   "cell_type": "markdown",
   "id": "bd0b9d43",
   "metadata": {},
   "source": [
    "> Using the .evaluate method from the Sequential class that allows us to evaluate the model on the testing sets. The features testing set or the **testing images are stored in the variable X_test_gray_norm** and the **labels are stored in y_test**."
   ]
  },
  {
   "cell_type": "code",
   "execution_count": 302,
   "id": "f97f71ab",
   "metadata": {},
   "outputs": [
    {
     "name": "stdout",
     "output_type": "stream",
     "text": [
      "Test Accuracy: 87.73%\n"
     ]
    }
   ],
   "source": [
    "print(\"Test Accuracy: {}%\".format(round(score[1] * 100, 2)))"
   ]
  },
  {
   "cell_type": "markdown",
   "id": "35ca8047",
   "metadata": {},
   "source": [
    "### Extracting Values from the Model"
   ]
  },
  {
   "cell_type": "code",
   "execution_count": 278,
   "id": "792ed080",
   "metadata": {
    "scrolled": true
   },
   "outputs": [
    {
     "data": {
      "text/plain": [
       "dict_keys(['loss', 'accuracy', 'val_loss', 'val_accuracy'])"
      ]
     },
     "execution_count": 278,
     "metadata": {},
     "output_type": "execute_result"
    }
   ],
   "source": [
    "history.history.keys()"
   ]
  },
  {
   "cell_type": "markdown",
   "id": "44dbe2be",
   "metadata": {},
   "source": [
    "> The history variable is calling on the .history method which produces a dictionary containing the **keys: loss, accuracy, val_loss, val_accuracy** which **store values about the all the accuracy and losses** for training and validation data for every epoch."
   ]
  },
  {
   "cell_type": "code",
   "execution_count": 282,
   "id": "878ddce1",
   "metadata": {},
   "outputs": [],
   "source": [
    "accuracy = history.history['accuracy']"
   ]
  },
  {
   "cell_type": "markdown",
   "id": "3d7dae14",
   "metadata": {},
   "source": [
    "> **Extracting the accuracy values** from the history dictionary object. Storing the values **in the accuracy variable**."
   ]
  },
  {
   "cell_type": "code",
   "execution_count": 337,
   "id": "e01699fb",
   "metadata": {},
   "outputs": [],
   "source": [
    "loss = history.history['loss']\n",
    "valid_loss = history.history['val_loss']\n",
    "valid_accuracy = history.history['val_accuracy']"
   ]
  },
  {
   "cell_type": "markdown",
   "id": "ec735bf3",
   "metadata": {},
   "source": [
    "> **Extracting the loss, validation loss, and validation accuracy** values from the history dictionary object."
   ]
  },
  {
   "cell_type": "code",
   "execution_count": 311,
   "id": "50460c9b",
   "metadata": {},
   "outputs": [
    {
     "name": "stdout",
     "output_type": "stream",
     "text": [
      "range(1, 46)\n"
     ]
    }
   ],
   "source": [
    "epochs = range(1, len(accuracy) + 1)\n",
    "print(epochs)"
   ]
  },
  {
   "cell_type": "markdown",
   "id": "b89a45c2",
   "metadata": {},
   "source": [
    "> This allows us to create a **range starting from 1 to the number of epochs** (45)."
   ]
  },
  {
   "cell_type": "markdown",
   "id": "b6b8cecd",
   "metadata": {},
   "source": [
    "### Visualizing the Model"
   ]
  },
  {
   "cell_type": "markdown",
   "id": "bae29190",
   "metadata": {},
   "source": [
    "Visualizing the model by plotting the data values extracted and **creating scatter\n",
    "plots** to better understand the performance of our network. We want to observe the **accuracy and losses for both the training and validation datasets** so we can **make the model more accurate** (with more epochs) **or avoid overfitting** (reducing number of epochs)."
   ]
  },
  {
   "cell_type": "markdown",
   "id": "5493c0b8",
   "metadata": {},
   "source": [
    "#### Training Accuracy"
   ]
  },
  {
   "cell_type": "code",
   "execution_count": 334,
   "id": "c699c728",
   "metadata": {},
   "outputs": [
    {
     "data": {
      "image/png": "[encoded data removed]",
      "text/plain": [
       "<Figure size 640x480 with 1 Axes>"
      ]
     },
     "metadata": {},
     "output_type": "display_data"
    }
   ],
   "source": [
    "plt.scatter(epochs, accuracy, color = 'black', sizes = [5])\n",
    "plt.plot(epochs, accuracy, 'blue')\n",
    "plt.title('Training Accuracy over Epochs')\n",
    "plt.xlabel('Epochs')\n",
    "plt.ylabel('Accuracy')\n",
    "\n",
    "plt.show()"
   ]
  },
  {
   "cell_type": "markdown",
   "id": "43b13905",
   "metadata": {},
   "source": [
    "> The graph above is exactly what we should be expecting. The **network learns fast in the beginning and then the growth in accuracy slows down**. I did not want the network to overfit so I allowed it to run at 45 epochs."
   ]
  },
  {
   "cell_type": "markdown",
   "id": "9e3c00b8",
   "metadata": {},
   "source": [
    "#### Training Loss"
   ]
  },
  {
   "cell_type": "code",
   "execution_count": 335,
   "id": "e89a6739",
   "metadata": {
    "scrolled": false
   },
   "outputs": [
    {
     "data": {
      "image/png": "[encoded data removed]",
      "text/plain": [
       "<Figure size 640x480 with 1 Axes>"
      ]
     },
     "metadata": {},
     "output_type": "display_data"
    }
   ],
   "source": [
    "plt.scatter(epochs, loss, color = 'black', sizes = [5])\n",
    "plt.plot(epochs, loss, color = 'red')\n",
    "plt.title('Training Loss over Epochs')\n",
    "plt.xlabel('Epochs')\n",
    "plt.ylabel('Loss')\n",
    "\n",
    "plt.show()"
   ]
  },
  {
   "cell_type": "markdown",
   "id": "16758400",
   "metadata": {},
   "source": [
    "> Exactly what we shold be looking at. The loss is the measure of how well the model is making correct predictions, basically an error rate. The network is **minimizing loss through loss functions** (we used **categorical cross-entropy** which rewards the network when it produces a high probability for the correct label)."
   ]
  },
  {
   "cell_type": "markdown",
   "id": "4edb2a38",
   "metadata": {},
   "source": [
    "#### Validation Accuracy"
   ]
  },
  {
   "cell_type": "code",
   "execution_count": 338,
   "id": "5ae6026a",
   "metadata": {},
   "outputs": [
    {
     "data": {
      "image/png": "[encoded data removed]",
      "text/plain": [
       "<Figure size 640x480 with 1 Axes>"
      ]
     },
     "metadata": {},
     "output_type": "display_data"
    }
   ],
   "source": [
    "plt.scatter(epochs, valid_accuracy, color = 'black', sizes = [5])\n",
    "plt.plot(epochs, valid_accuracy, color = 'green')\n",
    "plt.title('Validation Accuracy over Epochs')\n",
    "plt.xlabel('Epochs')\n",
    "plt.ylabel('Accuracy')\n",
    "\n",
    "plt.show()"
   ]
  },
  {
   "cell_type": "markdown",
   "id": "0526b509",
   "metadata": {},
   "source": [
    "> The validation accuracy closely resembles the training accuracy plot as it starts off with **high accuracy growth until it eventually starts slowing down**. Unlike the training curve, it is **more volatile** and is most likely going to bounce around in the high 80's"
   ]
  },
  {
   "cell_type": "markdown",
   "id": "c6b58e87",
   "metadata": {},
   "source": [
    "#### Validation Loss"
   ]
  },
  {
   "cell_type": "code",
   "execution_count": 339,
   "id": "c467b108",
   "metadata": {
    "scrolled": false
   },
   "outputs": [
    {
     "data": {
      "image/png": "[encoded data removed]",
      "text/plain": [
       "<Figure size 640x480 with 1 Axes>"
      ]
     },
     "metadata": {},
     "output_type": "display_data"
    }
   ],
   "source": [
    "plt.scatter(epochs, valid_loss, color = 'black', sizes = [5])\n",
    "plt.plot(epochs, valid_loss, color = 'orange')\n",
    "plt.title('Validation Loss over Epochs')\n",
    "plt.xlabel('Epochs')\n",
    "plt.ylabel('Loss')\n",
    "\n",
    "plt.show()"
   ]
  },
  {
   "cell_type": "markdown",
   "id": "e45307e4",
   "metadata": {},
   "source": [
    "> Unfortunately, our **model has symptoms of overfitting**. The validation **loss is decreasing fast in the beginning** which is good. However, the validaiton **loss starts to increase at the end** which means the network is *overfitting*. To fix this issue, I would most likely **decrease the number of epochs down to between 20 and 30 epochs**, because the validation loss is at its most stable low during that range. "
   ]
  },
  {
   "cell_type": "markdown",
   "id": "b38d0378",
   "metadata": {},
   "source": [
    "#### Comparing Training and Validation Accuracy"
   ]
  },
  {
   "cell_type": "code",
   "execution_count": 349,
   "id": "a3847fc7",
   "metadata": {
    "scrolled": false
   },
   "outputs": [
    {
     "data": {
      "image/png": "[encoded data removed]",
      "text/plain": [
       "<Figure size 640x480 with 1 Axes>"
      ]
     },
     "metadata": {},
     "output_type": "display_data"
    }
   ],
   "source": [
    "plt.plot(epochs, accuracy, color = 'blue')\n",
    "plt.plot(epochs, valid_accuracy, color = 'red')\n",
    "\n",
    "plt.scatter(epochs, accuracy, color = 'black', sizes = [10])\n",
    "plt.scatter(epochs, valid_accuracy, color = 'black', sizes = [10])\n",
    "\n",
    "\n",
    "plt.title('Training vs. Validation Accuracy')\n",
    "plt.xlabel('Epochs')\n",
    "plt.ylabel('Accuracy')\n",
    "\n",
    "plt.legend(['Training', 'Validation'])\n",
    "\n",
    "plt.show()"
   ]
  },
  {
   "cell_type": "markdown",
   "id": "9a34af5c",
   "metadata": {},
   "source": [
    "#### Comparing Training and Validation Losses"
   ]
  },
  {
   "cell_type": "code",
   "execution_count": 350,
   "id": "9c4627af",
   "metadata": {},
   "outputs": [
    {
     "data": {
      "image/png": "[encoded data removed]",
      "text/plain": [
       "<Figure size 640x480 with 1 Axes>"
      ]
     },
     "metadata": {},
     "output_type": "display_data"
    }
   ],
   "source": [
    "plt.plot(epochs, loss, color = 'green')\n",
    "plt.plot(epochs, valid_loss, color = 'orange')\n",
    "\n",
    "plt.scatter(epochs, loss, color = 'black', sizes = [10])\n",
    "plt.scatter(epochs, valid_loss, color = 'black', sizes = [10])\n",
    "\n",
    "plt.title('Training vs. Validation Loss')\n",
    "plt.xlabel('Epochs')\n",
    "plt.ylabel('Loss')\n",
    "\n",
    "plt.legend(['Training', 'Validation'])\n",
    "\n",
    "plt.show()"
   ]
  }
 ],
 "metadata": {
  "kernelspec": {
   "display_name": "Python 3 (ipykernel)",
   "language": "python",
   "name": "python3"
  },
  "language_info": {
   "codemirror_mode": {
    "name": "ipython",
    "version": 3
   },
   "file_extension": ".py",
   "mimetype": "text/x-python",
   "name": "python",
   "nbconvert_exporter": "python",
   "pygments_lexer": "ipython3",
   "version": "3.9.13"
  }
 },
 "nbformat": 4,
 "nbformat_minor": 5
}
