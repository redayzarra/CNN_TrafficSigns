{
 "cells": [
  {
   "cell_type": "markdown",
   "id": "7da67836",
   "metadata": {},
   "source": [
    "# Traffic Sign Classification - LeNet Deep Network"
   ]
  },
  {
   "cell_type": "markdown",
   "id": "d0bc07c9",
   "metadata": {},
   "source": [
    "### by ReDay Zarra"
   ]
  },
  {
   "cell_type": "markdown",
   "id": "6ec8c0d1",
   "metadata": {},
   "source": [
    "This project utilizes the LeNet deep network architecture to classify 42 different types of traffic signs. LeNet refers to a convolutional neural network that can be used for computer vision and classification models. This project showcases a step-by-step implementation of the model as well as in-depth notes to customize the model further for higher accuracy."
   ]
  },
  {
   "cell_type": "markdown",
   "id": "a3b4e7e7",
   "metadata": {},
   "source": [
    "## Importing the necessary libraries"
   ]
  },
  {
   "cell_type": "code",
   "execution_count": 36,
   "id": "358d581e",
   "metadata": {},
   "outputs": [],
   "source": [
    "import pandas as pd\n",
    "import numpy as np"
   ]
  },
  {
   "cell_type": "markdown",
   "id": "af26ea14",
   "metadata": {},
   "source": [
    "> Classic libraries that will help us read and analyze data"
   ]
  },
  {
   "cell_type": "code",
   "execution_count": 37,
   "id": "191606ba",
   "metadata": {},
   "outputs": [],
   "source": [
    "import matplotlib.pyplot as plt\n",
    "import seaborn as sns"
   ]
  },
  {
   "cell_type": "markdown",
   "id": "76835ab1",
   "metadata": {},
   "source": [
    "> Libraries used for plotting and data visualization"
   ]
  },
  {
   "cell_type": "code",
   "execution_count": 38,
   "id": "090f8979",
   "metadata": {},
   "outputs": [],
   "source": [
    "import pickle"
   ]
  },
  {
   "cell_type": "markdown",
   "id": "dbe3217f",
   "metadata": {},
   "source": [
    "> Using pickle package to open our data, not much use after that"
   ]
  },
  {
   "cell_type": "markdown",
   "id": "a21f29fe",
   "metadata": {},
   "source": [
    "## Importing the dataset"
   ]
  },
  {
   "cell_type": "markdown",
   "id": "9604cdb0",
   "metadata": {},
   "source": [
    "Importing the data into three different sections: training, validation, and\n",
    "testing. Training data is used to train the network, testing data is used to test\n",
    "the trained network with data that it has never seen to see how it would perform in\n",
    "the real world. The validation dataset ensures that we avoid overfitting by showing\n",
    "the network validation data every epoch (or run) in a process called \n",
    "cross-validation to ensure that the network is not focusing on the details of the\n",
    "training data. "
   ]
  },
  {
   "cell_type": "code",
   "execution_count": 39,
   "id": "3dbf755d",
   "metadata": {},
   "outputs": [],
   "source": [
    "with open(\"./traffic-signs-data/train.p\", mode = 'rb') as training_data:\n",
    "    train = pickle.load(training_data)"
   ]
  },
  {
   "cell_type": "code",
   "execution_count": 40,
   "id": "9c14357b",
   "metadata": {},
   "outputs": [],
   "source": [
    "with open(\"./traffic-signs-data/valid.p\", mode = 'rb') as validation_data:\n",
    "    valid = pickle.load(validation_data)"
   ]
  },
  {
   "cell_type": "code",
   "execution_count": 41,
   "id": "198fc2ff",
   "metadata": {},
   "outputs": [],
   "source": [
    "with open(\"./traffic-signs-data/test.p\", mode = 'rb') as testing_data:\n",
    "    test = pickle.load(testing_data)"
   ]
  },
  {
   "cell_type": "markdown",
   "id": "1960590f",
   "metadata": {},
   "source": [
    "### Splitting the dataset into training and testing sets"
   ]
  },
  {
   "cell_type": "markdown",
   "id": "ee884025",
   "metadata": {},
   "source": [
    "Splitting the data into our individual training, validation, and testing set variables."
   ]
  },
  {
   "cell_type": "code",
   "execution_count": 42,
   "id": "d9f41d6a",
   "metadata": {},
   "outputs": [],
   "source": [
    "X_train, y_train = train['features'], train['labels']"
   ]
  },
  {
   "cell_type": "markdown",
   "id": "c9f1c816",
   "metadata": {},
   "source": [
    "> Assigning the features of the training set as X_train and the dependent variable (labels) as y_train"
   ]
  },
  {
   "cell_type": "code",
   "execution_count": 43,
   "id": "364d7e5d",
   "metadata": {},
   "outputs": [],
   "source": [
    "X_validation, y_validation = valid['features'], valid['labels']"
   ]
  },
  {
   "cell_type": "markdown",
   "id": "577b086a",
   "metadata": {},
   "source": [
    "> Assigning the features of the validation set as X_validation and the dependent variable (labels) as y_validation"
   ]
  },
  {
   "cell_type": "code",
   "execution_count": 44,
   "id": "41b0abd1",
   "metadata": {},
   "outputs": [],
   "source": [
    "X_test, y_test = test['features'], test['labels']"
   ]
  },
  {
   "cell_type": "markdown",
   "id": "ccf34b81",
   "metadata": {},
   "source": [
    "> Assigning the features of the testing set as X_test and the dependent variable (labels) as y_test"
   ]
  },
  {
   "cell_type": "markdown",
   "id": "a17448aa",
   "metadata": {},
   "source": [
    "### Checking the dimensions of the datasets"
   ]
  },
  {
   "cell_type": "code",
   "execution_count": 45,
   "id": "fa6cef3f",
   "metadata": {},
   "outputs": [
    {
     "data": {
      "text/plain": [
       "(34799, 32, 32, 3)"
      ]
     },
     "execution_count": 45,
     "metadata": {},
     "output_type": "execute_result"
    }
   ],
   "source": [
    "X_train.shape"
   ]
  },
  {
   "cell_type": "markdown",
   "id": "de5f7b38",
   "metadata": {},
   "source": [
    "> Gives us an output of a four element tuple. The first number is the quantity of images, the second is the width of image in pixels, the third is the height of the image, and the last number the depth - in this case the 3 tells us that the images are colored since they are being multiplied for both Red, Green, and Blue"
   ]
  },
  {
   "cell_type": "code",
   "execution_count": 46,
   "id": "a90ec99a",
   "metadata": {
    "scrolled": true
   },
   "outputs": [
    {
     "data": {
      "text/plain": [
       "(34799,)"
      ]
     },
     "execution_count": 46,
     "metadata": {},
     "output_type": "execute_result"
    }
   ],
   "source": [
    "y_train.shape"
   ]
  },
  {
   "cell_type": "markdown",
   "id": "061ddbb4",
   "metadata": {},
   "source": [
    "> Gives us a tuple of one element, which is a label for each image in the training set"
   ]
  },
  {
   "cell_type": "code",
   "execution_count": 47,
   "id": "b16f8718",
   "metadata": {},
   "outputs": [
    {
     "data": {
      "text/plain": [
       "(4410, 32, 32, 3)"
      ]
     },
     "execution_count": 47,
     "metadata": {},
     "output_type": "execute_result"
    }
   ],
   "source": [
    "X_validation.shape"
   ]
  },
  {
   "cell_type": "markdown",
   "id": "d2216079",
   "metadata": {},
   "source": [
    "> A smaller subset only containing 4410 pictures, which are 32 x 32, and have a depth of 3 meaning they are colored with RGB"
   ]
  },
  {
   "cell_type": "code",
   "execution_count": 48,
   "id": "58e43936",
   "metadata": {},
   "outputs": [
    {
     "data": {
      "text/plain": [
       "(12630, 32, 32, 3)"
      ]
     },
     "execution_count": 48,
     "metadata": {},
     "output_type": "execute_result"
    }
   ],
   "source": [
    "X_test.shape"
   ]
  },
  {
   "cell_type": "code",
   "execution_count": 49,
   "id": "5804b78f",
   "metadata": {},
   "outputs": [
    {
     "data": {
      "text/plain": [
       "(12630,)"
      ]
     },
     "execution_count": 49,
     "metadata": {},
     "output_type": "execute_result"
    }
   ],
   "source": [
    "y_test.shape"
   ]
  },
  {
   "cell_type": "markdown",
   "id": "7668bd5a",
   "metadata": {},
   "source": [
    "## Verifying the images from the dataset"
   ]
  },
  {
   "cell_type": "markdown",
   "id": "720b9ce9",
   "metadata": {},
   "source": [
    "Using matplotlib to display a randomly choosen image and see if it matches with its label, just to see what the images are and how the network will be classifying them. Each type of sign has its own class which will identify the type of sign to the model. "
   ]
  },
  {
   "cell_type": "code",
   "execution_count": 54,
   "id": "0de1086c",
   "metadata": {},
   "outputs": [],
   "source": [
    "i = 23 "
   ]
  },
  {
   "cell_type": "markdown",
   "id": "4ddaf8d8",
   "metadata": {},
   "source": [
    "> The index of the image we want to look at, arbitrarily chose 23"
   ]
  },
  {
   "cell_type": "code",
   "execution_count": 55,
   "id": "41d066a0",
   "metadata": {
    "scrolled": true
   },
   "outputs": [
    {
     "data": {
      "text/plain": [
       "<matplotlib.image.AxesImage at 0x2d2a165a850>"
      ]
     },
     "execution_count": 55,
     "metadata": {},
     "output_type": "execute_result"
    },
    {
     "data": {
      "image/png": "[encoded data removed]",
      "text/plain": [
       "<Figure size 640x480 with 1 Axes>"
      ]
     },
     "metadata": {},
     "output_type": "display_data"
    }
   ],
   "source": [
    "plt.imshow(X_train[i])"
   ]
  },
  {
   "cell_type": "markdown",
   "id": "08e191fc",
   "metadata": {},
   "source": [
    "> Using matplotlib's .imshow method to show an image from the features training set at the index of 23"
   ]
  },
  {
   "cell_type": "code",
   "execution_count": 56,
   "id": "dbe50e8a",
   "metadata": {},
   "outputs": [
    {
     "data": {
      "text/plain": [
       "41"
      ]
     },
     "execution_count": 56,
     "metadata": {},
     "output_type": "execute_result"
    }
   ],
   "source": [
    "y_train[i]"
   ]
  },
  {
   "cell_type": "markdown",
   "id": "46630de6",
   "metadata": {},
   "source": [
    " >Also show us the corresponding label from the same index in the label's training set - the label tells us that the sign is a \"End of No Passing\""
   ]
  },
  {
   "cell_type": "code",
   "execution_count": 58,
   "id": "794fcf57",
   "metadata": {},
   "outputs": [
    {
     "data": {
      "text/plain": [
       "41"
      ]
     },
     "execution_count": 58,
     "metadata": {},
     "output_type": "execute_result"
    },
    {
     "data": {
      "image/png": "[encoded data removed]",
      "text/plain": [
       "<Figure size 640x480 with 1 Axes>"
      ]
     },
     "metadata": {},
     "output_type": "display_data"
    }
   ],
   "source": [
    "plt.imshow(X_validation[i])\n",
    "y_validation[i]"
   ]
  },
  {
   "cell_type": "markdown",
   "id": "19303a89",
   "metadata": {},
   "source": [
    ">Verifying images for the validation dataset"
   ]
  },
  {
   "cell_type": "code",
   "execution_count": 60,
   "id": "3a5dca82",
   "metadata": {
    "scrolled": true
   },
   "outputs": [
    {
     "data": {
      "text/plain": [
       "3"
      ]
     },
     "execution_count": 60,
     "metadata": {},
     "output_type": "execute_result"
    },
    {
     "data": {
      "image/png": "[encoded data removed]",
      "text/plain": [
       "<Figure size 640x480 with 1 Axes>"
      ]
     },
     "metadata": {},
     "output_type": "display_data"
    }
   ],
   "source": [
    "plt.imshow(X_test[i])\n",
    "y_test[i]"
   ]
  },
  {
   "cell_type": "markdown",
   "id": "95adedb2",
   "metadata": {},
   "source": [
    "> Verifying images for the testing dataset"
   ]
  },
  {
   "cell_type": "markdown",
   "id": "cc0152cb",
   "metadata": {},
   "source": [
    "## Preparing the data "
   ]
  },
  {
   "cell_type": "markdown",
   "id": "51178bf2",
   "metadata": {},
   "source": [
    "Preparing the data by shaving off things we don't need in the data. Such as \n",
    "transforming the images from RBG to grayscale (changes the depth from 3 to 1). I \n",
    "will also perform data normalization, where instead of using the pixel values \n",
    "ranging from 0 to 255, we can lower the range to use a more restricted range of\n",
    "pixel values. The data needs to also be shuffled so the images do not get trained\n",
    "in a certain order, we do not want the network to learn the order of these images.\n",
    "We want to make it as hard as possible for the network to learn, which is why we\n",
    "use low-quality images, more restricted pixel range, and grayscale images. "
   ]
  },
  {
   "cell_type": "markdown",
   "id": "ccedae6a",
   "metadata": {},
   "source": [
    "### Shuffling the dataset"
   ]
  },
  {
   "cell_type": "code",
   "execution_count": 61,
   "id": "0346240f",
   "metadata": {},
   "outputs": [],
   "source": [
    "from sklearn.utils import shuffle"
   ]
  },
  {
   "cell_type": "markdown",
   "id": "8161dcd6",
   "metadata": {},
   "source": [
    "> Importing the shuffle module from the sci-kit learn library to shuffle the dataset first"
   ]
  },
  {
   "cell_type": "code",
   "execution_count": 62,
   "id": "6be6ed30",
   "metadata": {},
   "outputs": [],
   "source": [
    "X_train, y_train = shuffle(X_train, y_train)"
   ]
  },
  {
   "cell_type": "markdown",
   "id": "4cc61164",
   "metadata": {},
   "source": [
    "> Used the shuffle function to reassign the variables of X_train and y_train into a different order, however the labels still correspond to the correct images because the shuffle function reorders them the same way"
   ]
  },
  {
   "cell_type": "markdown",
   "id": "b48ad933",
   "metadata": {},
   "source": [
    "### Transforming the data from RBG to Grayscale"
   ]
  },
  {
   "cell_type": "code",
   "execution_count": 63,
   "id": "743516bb",
   "metadata": {},
   "outputs": [],
   "source": [
    "X_train_gray = np.sum(X_train/3, axis = 3, keepdims = True)"
   ]
  },
  {
   "cell_type": "markdown",
   "id": "24b28c3b",
   "metadata": {},
   "source": [
    "> Use numpy to average the pixels to get the grayscale version of the image. We will simply add the pixel values from the three color channels (Red, Green, and Blue) and then divide them by 3. "
   ]
  },
  {
   "cell_type": "code",
   "execution_count": 64,
   "id": "b58ddd06",
   "metadata": {},
   "outputs": [
    {
     "data": {
      "text/plain": [
       "(34799, 32, 32, 1)"
      ]
     },
     "execution_count": 64,
     "metadata": {},
     "output_type": "execute_result"
    }
   ],
   "source": [
    "X_train_gray.shape"
   ]
  },
  {
   "cell_type": "markdown",
   "id": "0959add4",
   "metadata": {},
   "source": [
    "> The depth of the features training set is no longer 3, its now 1. This means the images are now grayscale"
   ]
  },
  {
   "cell_type": "code",
   "execution_count": 66,
   "id": "0f5756ff",
   "metadata": {},
   "outputs": [
    {
     "data": {
      "text/plain": [
       "<matplotlib.image.AxesImage at 0x2d2a287b670>"
      ]
     },
     "execution_count": 66,
     "metadata": {},
     "output_type": "execute_result"
    },
    {
     "data": {
      "image/png": "[encoded data removed]",
      "text/plain": [
       "<Figure size 640x480 with 1 Axes>"
      ]
     },
     "metadata": {},
     "output_type": "display_data"
    }
   ],
   "source": [
    "plt.imshow(X_train_gray[i])"
   ]
  },
  {
   "cell_type": "markdown",
   "id": "8013839d",
   "metadata": {},
   "source": [
    "> The network will now learn from this \"grayscale\" image which uses much less processing power because the image depth is reduced to 1"
   ]
  },
  {
   "cell_type": "code",
   "execution_count": 67,
   "id": "2e1547b1",
   "metadata": {},
   "outputs": [
    {
     "data": {
      "text/plain": [
       "(4410, 32, 32, 1)"
      ]
     },
     "execution_count": 67,
     "metadata": {},
     "output_type": "execute_result"
    }
   ],
   "source": [
    "X_validation_gray = np.sum(X_validation/3, axis = 3, keepdims = True)\n",
    "X_validation_gray.shape"
   ]
  },
  {
   "cell_type": "markdown",
   "id": "7e9a9fde",
   "metadata": {},
   "source": [
    "> Averaging the RGB values to reduce the depth from 3 to 1 for the feature's validation set"
   ]
  },
  {
   "cell_type": "code",
   "execution_count": 68,
   "id": "a218d8d8",
   "metadata": {},
   "outputs": [
    {
     "data": {
      "text/plain": [
       "<matplotlib.image.AxesImage at 0x2d2a2a27580>"
      ]
     },
     "execution_count": 68,
     "metadata": {},
     "output_type": "execute_result"
    },
    {
     "data": {
      "image/png": "[encoded data removed]",
      "text/plain": [
       "<Figure size 640x480 with 1 Axes>"
      ]
     },
     "metadata": {},
     "output_type": "display_data"
    }
   ],
   "source": [
    "plt.imshow(X_validation_gray[i])"
   ]
  },
  {
   "cell_type": "markdown",
   "id": "60de0a6c",
   "metadata": {},
   "source": [
    "> Grayscale sample image from the feature's validation set"
   ]
  },
  {
   "cell_type": "code",
   "execution_count": 69,
   "id": "e0088ad6",
   "metadata": {},
   "outputs": [
    {
     "data": {
      "text/plain": [
       "(12630, 32, 32, 1)"
      ]
     },
     "execution_count": 69,
     "metadata": {},
     "output_type": "execute_result"
    }
   ],
   "source": [
    "X_test_gray = np.sum(X_test/3, axis = 3, keepdims = True)\n",
    "X_test_gray.shape"
   ]
  },
  {
   "cell_type": "code",
   "execution_count": 70,
   "id": "79f20a5b",
   "metadata": {},
   "outputs": [
    {
     "data": {
      "text/plain": [
       "<matplotlib.image.AxesImage at 0x2d2a2908fd0>"
      ]
     },
     "execution_count": 70,
     "metadata": {},
     "output_type": "execute_result"
    },
    {
     "data": {
      "image/png": "[encoded data removed]",
      "text/plain": [
       "<Figure size 640x480 with 1 Axes>"
      ]
     },
     "metadata": {},
     "output_type": "display_data"
    }
   ],
   "source": [
    "plt.imshow(X_test_gray[i])"
   ]
  }
 ],
 "metadata": {
  "kernelspec": {
   "display_name": "Python 3 (ipykernel)",
   "language": "python",
   "name": "python3"
  },
  "language_info": {
   "codemirror_mode": {
    "name": "ipython",
    "version": 3
   },
   "file_extension": ".py",
   "mimetype": "text/x-python",
   "name": "python",
   "nbconvert_exporter": "python",
   "pygments_lexer": "ipython3",
   "version": "3.9.13"
  }
 },
 "nbformat": 4,
 "nbformat_minor": 5
}
