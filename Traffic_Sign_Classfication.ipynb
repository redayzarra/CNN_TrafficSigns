{
 "cells": [
  {
   "cell_type": "markdown",
   "id": "7da67836",
   "metadata": {},
   "source": [
    "# Traffic Sign Classification - LeNet Deep Network"
   ]
  },
  {
   "cell_type": "markdown",
   "id": "8fffb267",
   "metadata": {},
   "source": [
    "This project utilizes the LeNet deep network architecture to classify 42 different types of traffic signs. LeNet refers to a convolutional neural network that can be used for computer vision and classification models. This project showcases a step-by-step implementation of the model as well as in-depth notes to customize the model further for higher accuracy."
   ]
  },
  {
   "cell_type": "markdown",
   "id": "96443111",
   "metadata": {},
   "source": [
    "## Importing the necessary libraries"
   ]
  },
  {
   "cell_type": "code",
   "execution_count": 2,
   "id": "358d581e",
   "metadata": {},
   "outputs": [],
   "source": [
    "import pandas as pd\n",
    "import numpy as np"
   ]
  },
  {
   "cell_type": "markdown",
   "id": "b9dee940",
   "metadata": {},
   "source": [
    "> Classic libraries that will help us read and analyze data"
   ]
  },
  {
   "cell_type": "code",
   "execution_count": 4,
   "id": "d5c4207e",
   "metadata": {},
   "outputs": [],
   "source": [
    "import matplotlib.pyplot as plt\n",
    "import seaborn as sns"
   ]
  },
  {
   "cell_type": "markdown",
   "id": "99a645a3",
   "metadata": {},
   "source": [
    "> Libraries used for plotting and data visualization"
   ]
  },
  {
   "cell_type": "code",
   "execution_count": 5,
   "id": "a00e6d9c",
   "metadata": {},
   "outputs": [],
   "source": [
    "import pickle"
   ]
  },
  {
   "cell_type": "markdown",
   "id": "9e8bc09e",
   "metadata": {},
   "source": [
    "> Using pickle package to open our data, not much use after that"
   ]
  },
  {
   "cell_type": "markdown",
   "id": "f4eb1b32",
   "metadata": {},
   "source": [
    "## Importing the dataset"
   ]
  },
  {
   "cell_type": "markdown",
   "id": "559940e4",
   "metadata": {},
   "source": [
    "Importing the data into three different sections: training, validation, and\n",
    "testing. Training data is used to train the network, testing data is used to test\n",
    "the trained network with data that it has never seen to see how it would perform in\n",
    "the real world. The validation dataset ensures that we avoid overfitting by showing\n",
    "the network validation data every epoch (or run) in a process called \n",
    "cross-validation to ensure that the network is not focusing on the details of the\n",
    "training data. "
   ]
  },
  {
   "cell_type": "code",
   "execution_count": 9,
   "id": "834c135e",
   "metadata": {},
   "outputs": [],
   "source": [
    "with open(\"./traffic-signs-data/train.p\", mode = 'rb') as training_data:\n",
    "    train = pickle.load(training_data)"
   ]
  },
  {
   "cell_type": "code",
   "execution_count": 10,
   "id": "65a86622",
   "metadata": {},
   "outputs": [],
   "source": [
    "with open(\"./traffic-signs-data/valid.p\", mode = 'rb') as validation_data:\n",
    "    valid = pickle.load(validation_data)"
   ]
  },
  {
   "cell_type": "code",
   "execution_count": 11,
   "id": "0eb25cf1",
   "metadata": {},
   "outputs": [],
   "source": [
    "with open(\"./traffic-signs-data/test.p\", mode = 'rb') as testing_data:\n",
    "    test = pickle.load(testing_data)"
   ]
  },
  {
   "cell_type": "markdown",
   "id": "98a6a3d3",
   "metadata": {},
   "source": [
    "### Splitting the dataset into training and testing sets"
   ]
  },
  {
   "cell_type": "markdown",
   "id": "7bdedb7c",
   "metadata": {},
   "source": [
    "Splitting the data into our individual training, validation, and testing set variables."
   ]
  },
  {
   "cell_type": "code",
   "execution_count": 12,
   "id": "f410afb7",
   "metadata": {},
   "outputs": [],
   "source": [
    "X_train, y_train = train['features'], train['labels']"
   ]
  },
  {
   "cell_type": "markdown",
   "id": "c09ef583",
   "metadata": {},
   "source": [
    "> Assigning the features of the training set as X_train and the dependent variable (labels) as y_train"
   ]
  },
  {
   "cell_type": "code",
   "execution_count": 15,
   "id": "6c9e12a0",
   "metadata": {},
   "outputs": [],
   "source": [
    "X_validation, y_validation = valid['features'], valid['labels']"
   ]
  },
  {
   "cell_type": "markdown",
   "id": "e353419a",
   "metadata": {},
   "source": [
    "> Assigning the features of the validation set as X_validation and the dependent variable (labels) as y_validation"
   ]
  },
  {
   "cell_type": "code",
   "execution_count": 16,
   "id": "81a443df",
   "metadata": {},
   "outputs": [],
   "source": [
    "X_test, y_test = test['features'], test['labels']"
   ]
  },
  {
   "cell_type": "markdown",
   "id": "b25556b3",
   "metadata": {},
   "source": [
    "> Assigning the features of the testing set as X_test and the dependent variable (labels) as y_test"
   ]
  }
 ],
 "metadata": {
  "kernelspec": {
   "display_name": "Python 3.11.1 64-bit",
   "language": "python",
   "name": "python3"
  },
  "language_info": {
   "codemirror_mode": {
    "name": "ipython",
    "version": 3
   },
   "file_extension": ".py",
   "mimetype": "text/x-python",
   "name": "python",
   "nbconvert_exporter": "python",
   "pygments_lexer": "ipython3",
   "version": "3.11.1"
  },
  "vscode": {
   "interpreter": {
    "hash": "c261aea317cc0286b3b3261fbba9abdec21eaa57589985bb7a274bf54d6cc0a7"
   }
  }
 },
 "nbformat": 4,
 "nbformat_minor": 5
}
